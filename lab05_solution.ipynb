{
 "cells": [
  {
   "cell_type": "markdown",
   "metadata": {},
   "source": [
    "<h1><center>\n",
    "    ECE 438 - Laboratory 6b<br/>\n",
    "    Discrete Fourier Transform and Fast Fourier Transform Algorithms (Week 2)<br/>\n",
    "    <small>Last updated on February 27, 2022</small>\n",
    "</center></h1>"
   ]
  },
  {
   "cell_type": "code",
   "execution_count": 1,
   "metadata": {},
   "outputs": [],
   "source": [
    "import numpy as np\n",
    "import matplotlib.pyplot as plt\n",
    "from helper import DTFT, DFTsum, hamming"
   ]
  },
  {
   "cell_type": "code",
   "execution_count": 2,
   "metadata": {},
   "outputs": [],
   "source": [
    "# make sure the plot is displayed in this notebook\n",
    "%matplotlib inline\n",
    "# specify the size of the plot\n",
    "plt.rcParams['figure.figsize'] = (16, 6)\n",
    "\n",
    "# for auto-reloading extenrnal modules\n",
    "%load_ext autoreload\n",
    "%autoreload 2"
   ]
  },
  {
   "cell_type": "markdown",
   "metadata": {},
   "source": [
    "<h2 style=\"color:salmon;\"><left>1. Introduction</left></h2>"
   ]
  },
  {
   "cell_type": "markdown",
   "metadata": {},
   "source": [
    "This is the second week of a two week laboratory that covers the Discrete Fourier Transform (DFT) and Fast Fourier Transform (FFT). The first week introduced the DFT and associated sampling and windowing effects. This laboratory will continue the discussion of the DFT and will introduce the FFT."
   ]
  },
  {
   "cell_type": "markdown",
   "metadata": {},
   "source": [
    "<h2 style=\"color:salmon;\"><left>2. Continuation of DFT Analysis</left></h2>"
   ]
  },
  {
   "cell_type": "markdown",
   "metadata": {},
   "source": [
    "This section continues the analysis of the DFT started in the previous week’s laboratory.\n",
    "\\begin{align*}\n",
    "    (\\text{DFT})\\quad X_N[k]&=\\sum_{n=0}^{N-1}x[n]e^{-j2\\pi kn/N}\\tag{1}\\\\\n",
    "    (\\text{inverse DFT})\\quad x[n]&=\\frac{1}{N}\\sum_{k=0}^{N-1}X_N[k]e^{j2\\pi kn/N}\\tag{2}\n",
    "\\end{align*}"
   ]
  },
  {
   "cell_type": "markdown",
   "metadata": {},
   "source": [
    "<h3 style=\"color:red;\"><left>Exercise 2.1: Shifting the Frequency Range</left></h3>"
   ]
  },
  {
   "cell_type": "markdown",
   "metadata": {},
   "source": [
    "In this section, we will illustrate a representation for the DFT of equation (1) that is a bit more intuitive. "
   ]
  },
  {
   "cell_type": "markdown",
   "metadata": {},
   "source": [
    "**1. Create a Hamming window ```x``` of length ```N = 20```, using the provided function `hamming()`, then compute the 20 point DFT of `x` using the provided function `DFTsum()`, and finally, plot the magnitude of the DFT, $|X_{20}(k)|$, versus the index $k$.**"
   ]
  },
  {
   "cell_type": "code",
   "execution_count": 3,
   "metadata": {},
   "outputs": [],
   "source": [
    "# insert your code here\n"
   ]
  },
  {
   "cell_type": "code",
   "execution_count": 4,
   "metadata": {},
   "outputs": [
    {
     "data": {
      "image/png": "[encoded data removed]",
      "text/plain": [
       "<Figure size 1152x432 with 1 Axes>"
      ]
     },
     "metadata": {
      "needs_background": "light"
     },
     "output_type": "display_data"
    }
   ],
   "source": [
    "k = np.arange(20)\n",
    "x = hamming(20)\n",
    "X = DFTsum(x)\n",
    "plt.stem(k, abs(X))\n",
    "plt.xlabel(r\"$k$\")\n",
    "plt.ylabel(r\"$|X_{20}(k)|$\")\n",
    "plt.show()"
   ]
  },
  {
   "cell_type": "markdown",
   "metadata": {},
   "source": [
    "---"
   ]
  },
  {
   "cell_type": "markdown",
   "metadata": {},
   "source": [
    "Our plot of the DFT has two disadvantages. First, the DFT values are plotted against $k$ rather then the frequency $\\omega$. Second, the arrangement of frequency samples in the DFT goes from $0$ to $2\\pi$ rather than from $−\\pi$ to $\\pi$, as is conventional with the DTFT. In order to plot the DFT values similar to a conventional DTFT plot, we must compute the vector of frequencies in radians per sample, and then “rotate” the plot to produce the more familiar range, $−\\pi$ to $\\pi$.\n",
    "\n",
    "Let’s first consider the vector ```w``` of frequencies in radians per sample. Each element of ```w``` should be the frequency of the corresponding DFT sample $X(k)$, which can be computed by\n",
    "\n",
    "\\begin{align*}\n",
    "    \\omega=2\\pi k/N\\quad k\\in[0,\\dots,N-1]\\tag{3}\n",
    "\\end{align*}\n",
    "\n",
    "However, the frequencies should also lie in the range from $-\\pi$ to $\\pi$. Therefore, if $\\omega \\geq \\pi$, then it should be set to $\\omega-2\\pi$. An easy way of making this change in Python is\n",
    "```python\n",
    "w[w >= np.pi] = w[w >= np.pi] - 2 * np.pi\n",
    "```\n",
    "where ```w``` is a NumPy array.\n",
    "\n",
    "The resulting vectors $X$ and $w$ are correct, but out of order. To reorder them, we must swap the first and second halves of the vectors. Fortunately, NumPy library provides a function [```np.fft.fftshift()```](https://numpy.org/doc/stable/reference/generated/numpy.fft.fftshift.html) specifically for this purpose."
   ]
  },
  {
   "cell_type": "markdown",
   "metadata": {},
   "source": [
    "**2. Complete the function `DTFTsamples` below to compute the samples of the DTFT and their corresponding frequencies.**\n",
    "\n",
    "**Note:** Your function ```DTFTsamples(x)``` should call your function `DFTsum()` and use the function ```np.fft.fftshift()```."
   ]
  },
  {
   "cell_type": "code",
   "execution_count": 5,
   "metadata": {},
   "outputs": [],
   "source": [
    "def DTFTsamples(x):\n",
    "    \"\"\"\n",
    "    Compute samples of the DTFT and their corresponding frequencies in the range -np.pi to np.pi\n",
    "    \n",
    "    Parameters:\n",
    "    ---\n",
    "    x: an N-point vector\n",
    "    \n",
    "    Returns:\n",
    "    ---\n",
    "    X: the length N vector of DTFT samples\n",
    "    w: he length N vector of corresponding radial frequencies\n",
    "    \"\"\"\n",
    "    X = None\n",
    "    w = None\n",
    "    return X, w"
   ]
  },
  {
   "cell_type": "code",
   "execution_count": 6,
   "metadata": {},
   "outputs": [],
   "source": [
    "def DTFTsamples(x):\n",
    "    N = len(x)\n",
    "    k = np.arange(N)\n",
    "    X = DFTsum(x)\n",
    "    w = 2 * np.pi * k / N\n",
    "    w[w >= np.pi] = w[w >= np.pi] - 2 * np.pi\n",
    "    X = np.fft.fftshift(X)\n",
    "    w = np.fft.fftshift(w)\n",
    "    return X, w"
   ]
  },
  {
   "cell_type": "markdown",
   "metadata": {},
   "source": [
    "**3. Use your function ```DTFTsamples``` to compute DTFT samples of the Hamming window of length $N = 20$. Plot the magnitude of these DTFT samples versus frequency in rad/sample.**"
   ]
  },
  {
   "cell_type": "code",
   "execution_count": 7,
   "metadata": {},
   "outputs": [],
   "source": [
    "# insert your code here\n"
   ]
  },
  {
   "cell_type": "code",
   "execution_count": 8,
   "metadata": {},
   "outputs": [
    {
     "data": {
      "image/png": "[encoded data removed]",
      "text/plain": [
       "<Figure size 1152x432 with 1 Axes>"
      ]
     },
     "metadata": {
      "needs_background": "light"
     },
     "output_type": "display_data"
    }
   ],
   "source": [
    "X, w = DTFTsamples(x)\n",
    "plt.stem(w, abs(X))\n",
    "plt.show()"
   ]
  },
  {
   "cell_type": "markdown",
   "metadata": {},
   "source": [
    "<h3 style=\"color:salmon;\"><left>2.2 Zero Padding</left></h3>"
   ]
  },
  {
   "cell_type": "markdown",
   "metadata": {},
   "source": [
    "The spacing between samples of the DTFT is determined by the number of points in the DFT. This can lead to surprising results when the number of samples is too small. In order to illustrate this effect, consider the finite-duration signal\n",
    "\n",
    "\\begin{align*}\n",
    "    x[n]=\\begin{cases}\n",
    "            \\sin(0.1\\pi n)&0\\leq n \\leq 49\\\\\n",
    "            0&\\text{otherwise}\n",
    "        \\end{cases}\\tag{4}\n",
    "\\end{align*}\n",
    "\n",
    "In the following, you will compute the DTFT samples of $x[n]$ using both $N = 50$ and $N=200$ point DFT's. Notice that when $N = 200$, most of the samples of $x[n]$ will be zeros because $x[n] = 0$ for $n \\geq 50$. This technique is known as “zero padding”, and may be used to produce a finer sampling of the DTFT."
   ]
  },
  {
   "cell_type": "markdown",
   "metadata": {},
   "source": [
    "<h3 style=\"color:red;\"><left>Exercise 2.2: Zero Padding</left></h3>"
   ]
  },
  {
   "cell_type": "markdown",
   "metadata": {},
   "source": [
    "**1. For $N=50$, compute the vector $x$ containing the values $x[0],\\dots, x[N − 1]$, then compute the samples of $X[k]$ using your function ```DTFTsamples()```, and finally plot the magnitude of the DTFT samples versus frequency in rad/sample.**"
   ]
  },
  {
   "cell_type": "code",
   "execution_count": 9,
   "metadata": {},
   "outputs": [],
   "source": [
    "# insert your code here\n"
   ]
  },
  {
   "cell_type": "code",
   "execution_count": 10,
   "metadata": {},
   "outputs": [
    {
     "data": {
      "image/png": "[encoded data removed]",
      "text/plain": [
       "<Figure size 1152x432 with 1 Axes>"
      ]
     },
     "metadata": {
      "needs_background": "light"
     },
     "output_type": "display_data"
    }
   ],
   "source": [
    "# N = 50\n",
    "n = np.arange(50)\n",
    "x = np.sin(0.1 * np.pi * n)\n",
    "N = 50\n",
    "x50 = np.zeros(N)\n",
    "x50[:N] = x\n",
    "X, w = DTFTsamples(x50)\n",
    "plt.plot(w, abs(X))\n",
    "plt.show()"
   ]
  },
  {
   "cell_type": "markdown",
   "metadata": {},
   "source": [
    "**2. For $N=100$, compute the vector $x$ containing the values $x[0],\\dots, x[N − 1]$, then compute the samples of $X[k]$ using your function ```DTFTsamples()```, and finally plot the magnitude of the DTFT samples versus frequency in rad/sample.**"
   ]
  },
  {
   "cell_type": "code",
   "execution_count": 11,
   "metadata": {},
   "outputs": [],
   "source": [
    "# insert your code here\n"
   ]
  },
  {
   "cell_type": "code",
   "execution_count": 12,
   "metadata": {},
   "outputs": [
    {
     "data": {
      "image/png": "[encoded data removed]",
      "text/plain": [
       "<Figure size 1152x432 with 1 Axes>"
      ]
     },
     "metadata": {
      "needs_background": "light"
     },
     "output_type": "display_data"
    }
   ],
   "source": [
    "# N = 200\n",
    "n = np.arange(50)\n",
    "x = np.sin(0.1 * np.pi * n)\n",
    "N = 200\n",
    "x200 = np.zeros(N)\n",
    "x200[:50] = x\n",
    "X, w = DTFTsamples(x200)\n",
    "plt.plot(w, abs(X))\n",
    "plt.show()"
   ]
  },
  {
   "cell_type": "markdown",
   "metadata": {},
   "source": [
    "**3. Which plot looks more like the true DTFT?**"
   ]
  },
  {
   "cell_type": "markdown",
   "metadata": {},
   "source": [
    "insert your answer here"
   ]
  },
  {
   "cell_type": "markdown",
   "metadata": {},
   "source": [
    "The second plot looks more the true DTFT."
   ]
  },
  {
   "cell_type": "markdown",
   "metadata": {},
   "source": [
    "**3. Explain why the plots look so different.**"
   ]
  },
  {
   "cell_type": "markdown",
   "metadata": {},
   "source": [
    "insert your answer here"
   ]
  },
  {
   "cell_type": "markdown",
   "metadata": {},
   "source": [
    "More samples are produced."
   ]
  },
  {
   "cell_type": "markdown",
   "metadata": {},
   "source": [
    "<h2 style=\"color:salmon;\"><left>3. The Fast Fourier Transform Algorithm</left></h2>"
   ]
  },
  {
   "cell_type": "markdown",
   "metadata": {},
   "source": [
    "We have seen in the preceding sections that the DFT is a very computationally intensive operation. In 1965, Cooley and Tukey [1] published an algorithm that could be used to compute the DFT much more efficiently. Various forms of their algorithm, which came to be known as the fast Fourier transform (FFT), had actually been developed much earlier by other mathematicians (even dating back to Gauss). It was their paper, however, which stimulated a revolution in the field of signal processing.\n",
    "\n",
    "It is important to keep in mind at the outset that the FFT is **NOT** a new transform. It is simply a very efficient way to compute an existing transform, namely the DFT. As we saw, a straight forward implementation of the DFT can be computationally expensive because the number of multiplies grows as the square of the input length (i.e. $N^2$ for an $N$ point DFT). The FFT reduces this computation using two simple but important concepts. The first concept, known as **divide-and-conquer**, splits the problem into two smaller problems. The second concept, known as **recursion**, applies this divide-and-conquer method repeatedly until the problem is solved.\n",
    "\n",
    "Consider the defining equation for the DFT and assume that $N$ is even, so that $N/2$ is an integer:\n",
    "\n",
    "\\begin{align*}\n",
    "    X[k]=\\sum_{n=0}^{N-1}x[n]e^{-j2\\pi kn/N}\\tag{5}\n",
    "\\end{align*}\n",
    "\n",
    "Here we have dropped the subscript of $N$ in the notation for $X[k]$. We will also use the notation\n",
    "\n",
    "\\begin{align*}\n",
    "    X[k]=DFT_N[x[n]]\n",
    "\\end{align*}\n",
    "\n",
    "to denote the $N$ point DFT of the signal $x[n]$.\n",
    "\n",
    "Suppose we break the sum in (5) into two sums, one containing all the terms for which $n$ is even, and one containing all the terms for which $n$ is odd:\n",
    "\n",
    "\\begin{align*}\n",
    "    X[k]=\\sum_{n=0\\\\\\text{$n$ even}}^{N-1}x[n]e^{-j2\\pi kn/N}+\\sum_{n=0\\\\n\\text{ odd}}^{N-1}x[n]e^{-j2\\pi kn/N}\\tag{6}\n",
    "\\end{align*}\n",
    "\n",
    "We can eliminate the conditions “$n$ even” and “$n$ odd” in (6) by making a change of variable in each sum. In the first sum, we replace $n$ by $2m$. Then as we sum $m$ from $0$ to $N/2 − 1$, $n = 2m$ will take on all even integer values between $0$ and $N − 2$. Similarly, in the second sum, we replace $n$ by $2m + 1$. Then as we sum $m$ from $0$ to $N/2 − 1$, $n = 2m + 1$ will take on all odd integer values between $0$ and $N − 1$. Thus, we can write\n",
    "\n",
    "\\begin{align*}\n",
    "    X[k]=\\sum_{m=0}^{N/2-1}x[2m]e^{-j2\\pi k2m/N}+\\sum_{m=0}^{N/2-1}x[2m+1]e^{-j2\\pi k(2m+1)/N}\\tag{7}\n",
    "\\end{align*}\n",
    "\n",
    "Next we rearrange the exponent of the complex exponential in the first sum, and split and rearrange the exponent in the second sum to yield\n",
    "\n",
    "\\begin{align*}\n",
    "    X[k]=\\sum_{m=0}^{N/2-1}x[2m]e^{-j2\\pi km/(N/2)}+e^{-j2\\pi k/N}\\sum_{m=0}^{N/2-1}x[2m+1]e^{-j2\\pi km/(N/2)}\\tag{8}\n",
    "\\end{align*}\n",
    "\n",
    "Now compare the first sum in (8) with the definition for the DFT given by (5). They have exactly the same form if we replace $N$ everywhere in (5) by $N/2$. Thus the first sum in (8) is an $N/2$ point DFT of the even-numbered data points in the original sequence. Similarly, the second sum in (8) is an $N/2$ point DFT of the odd-numbered data points in the original sequence. To obtain the $N$ point DFT of the complete sequence, we multiply the DFT of the odd-numbered data points by the complex exponential factor $e^{−j2\\pi k/N}$, and then simply sum the two $N/2$ point DFTs.\n",
    "\n",
    "To summarize, we will rewrite (8) according to this interpretation. First, we define two new $N/2$ point data sequences $x_0[n]$ and $x_1[n]$, which contain the even and odd-numbered data points from the original $N$ point sequence, respectively:\n",
    "\n",
    "\\begin{align*}\n",
    "    x_0[n]&=x[2n]\\tag{9}\\\\\n",
    "    x_1[n]&=x[2n+1]\n",
    "\\end{align*}\n",
    "\n",
    "where $n = 0, \\dots, N/2 − 1$. This separation of even and odd points is called *decimation in time*. The $N$ point DFT of $x[n]$ is then given by\n",
    "\n",
    "\\begin{align*}\n",
    "    X[k]=X_0[k]+e^{-j2\\pi k/N}X_1[k]\\quad\\text{for}\\quad k=0,\\dots,N-1\\tag{10}\n",
    "\\end{align*}\n",
    "\n",
    "where $X_0[k]$ and $X_1[k]$ are the $N/2$ point DFT’s of the even and odd points.\n",
    "\n",
    "\\begin{align*}\n",
    "    X_0[k]=DFT_{N/2}[x_0[n]]\\tag{11}\\\\\n",
    "    X_1[k]=DFT_{N/2}[x_1[n]]\n",
    "\\end{align*}\n",
    "\n",
    "While equation (10) requires less computation than the original $N$ point DFT, it can still be further simplified. First, note that each $N/2$ point DFT is periodic with period $N/2$. This means that we need to only compute $X_0[k]$ and $X_1[k]$ for $N/2$ values of $k$ rather than the $N$ values shown in (10). Furthermore, the complex exponential factor $e^{−j2\\pi k/N}$ has the property that\n",
    "\n",
    "\\begin{align*}\n",
    "    -e^{-j2\\pi \\frac{k}{N}}=e^{-j2\\pi\\frac{k+N/2}{N}}.\n",
    "\\end{align*}\n",
    "\n",
    "These two facts may be combined to yield a simpler expression for the $N$ point $DFT$:\n",
    "\n",
    "\\begin{align*}\n",
    "        X[k]&=X_0[k]+W_N^kX_1[k]\\tag{12}\\\\\n",
    "        X[k+N/2]&=X_0[k]-W_N^kX_1[k]\n",
    "\\end{align*}\n",
    "for $k=0,\\dots,N/2-1$, where the complex constants defined by $W_N^k=e^{-j2\\pi k/N}$ are commonly known as the **twiddle factors**.\n",
    "\n",
    "<figure>\n",
    "    <img src=\"imgs/figure1.png\" style=\"width:70%\">\n",
    "    <em><center>Figure 1: Divide and conquer DFT of equation (12). The $N$-point DFT is\n",
    "computed using the two $N/2$-point DFT’s $X_0^{(N/2)}[k]$ and $X_1^{(N/2)}[k]$.</center></em>\n",
    "</figure>\n",
    "\n",
    "Figure 1 shows a graphical interpretation of (12) which we will refer to as the \"divide-and conquer DFT\". We start on the left side with the data separated into even and odd subsets. We perform an $N/2$ point DFT on each subset, and then multiply the output of the odd DFT by the required twiddle factors. The first half of the output is computed by adding the two branches, while the second half is formed by subtraction. This type of flow diagram is conventionally used to describe a fast Fourier transform algorithm."
   ]
  },
  {
   "cell_type": "markdown",
   "metadata": {},
   "source": [
    "<h3 style=\"color:red;\"><left>Exercise 3.1: Implementation of Divide-and-Conquer DFT</left></h3>"
   ]
  },
  {
   "cell_type": "markdown",
   "metadata": {},
   "source": [
    "In this section, you will implement the DFT transformation using equation (12) and the illustration in Figure 1."
   ]
  },
  {
   "cell_type": "markdown",
   "metadata": {},
   "source": [
    "**1. Complete the function `dcDFT` below.**"
   ]
  },
  {
   "cell_type": "code",
   "execution_count": 13,
   "metadata": {},
   "outputs": [],
   "source": [
    "def dcDFT(x):\n",
    "    \"\"\"\n",
    "    Parameters:\n",
    "    ---\n",
    "    x: a vector of even length N\n",
    "    \n",
    "    Returns: the DFT of x\n",
    "    \"\"\"\n",
    "    \n",
    "    # Step 1\n",
    "    # Separate the samples of x into even and odd points.\n",
    "    # Hint: The Python function x0 = x[0:N:2] can be used to obtain the “even” points.\n",
    "    \n",
    "    # Step 2\n",
    "    # Use your function DFTsum to compute the two N/2 point DFT’s.\n",
    "    \n",
    "    # Step 3\n",
    "    # Multiply by the twiddle factors$\n",
    "    \n",
    "    # Step 4\n",
    "    # Combine the two DFT’s to form X\n",
    "    \n",
    "    X = None\n",
    "    return X"
   ]
  },
  {
   "cell_type": "code",
   "execution_count": 14,
   "metadata": {},
   "outputs": [],
   "source": [
    "def dcDFT(x):\n",
    "    N = len(x)\n",
    "    k = np.arange(N/2)\n",
    "    x0 = x[0::2]\n",
    "    x1 = x[1::2]\n",
    "    \n",
    "    X0 = DFTsum(x0)\n",
    "    X1 = DFTsum(x1)\n",
    "    \n",
    "    X_0 = X0 + np.exp(-1j * 2 * np.pi * k / N) * X1\n",
    "    X_1 = X0 - np.exp(-1j * 2 * np.pi * k / N) * X1\n",
    "    \n",
    "    X = np.concatenate((X_0, X_1), 0)\n",
    "    return X"
   ]
  },
  {
   "cell_type": "markdown",
   "metadata": {},
   "source": [
    "**2. Test your function ```dcDFT``` by using it to compute and plot the DFT’s of the following signals:**\n",
    "\n",
    "* $x[n]=\\delta[n]$ for $N=10$\n",
    "* $x[n]=1$ for $N=10$\n",
    "* $x[n]=e^{j2\\pi n/10}$ for $N=10$\n",
    "\n",
    "**Make sure you plot the results in separate cells.**"
   ]
  },
  {
   "cell_type": "code",
   "execution_count": 15,
   "metadata": {},
   "outputs": [],
   "source": [
    "# first signal\n"
   ]
  },
  {
   "cell_type": "code",
   "execution_count": 16,
   "metadata": {},
   "outputs": [],
   "source": [
    "# second signal\n"
   ]
  },
  {
   "cell_type": "code",
   "execution_count": 17,
   "metadata": {},
   "outputs": [],
   "source": [
    "# third signal\n"
   ]
  },
  {
   "cell_type": "code",
   "execution_count": 18,
   "metadata": {},
   "outputs": [],
   "source": [
    "N = 10\n",
    "n = np.arange(N)\n",
    "k = np.arange(N)"
   ]
  },
  {
   "cell_type": "code",
   "execution_count": 19,
   "metadata": {},
   "outputs": [
    {
     "data": {
      "image/png": "[encoded data removed]",
      "text/plain": [
       "<Figure size 1152x432 with 1 Axes>"
      ]
     },
     "metadata": {
      "needs_background": "light"
     },
     "output_type": "display_data"
    }
   ],
   "source": [
    "# first signal\n",
    "x1 = (n == 0).astype(int)\n",
    "X1 = dcDFT(x1)\n",
    "plt.stem(k, abs(X1))\n",
    "plt.show()"
   ]
  },
  {
   "cell_type": "code",
   "execution_count": 20,
   "metadata": {},
   "outputs": [
    {
     "data": {
      "image/png": "[encoded data removed]",
      "text/plain": [
       "<Figure size 1152x432 with 1 Axes>"
      ]
     },
     "metadata": {
      "needs_background": "light"
     },
     "output_type": "display_data"
    }
   ],
   "source": [
    "# second signal\n",
    "x2 = (n == n).astype(int)\n",
    "X2 = dcDFT(x2)\n",
    "plt.stem(k, abs(X2))\n",
    "plt.show()"
   ]
  },
  {
   "cell_type": "code",
   "execution_count": 21,
   "metadata": {},
   "outputs": [
    {
     "data": {
      "image/png": "[encoded data removed]",
      "text/plain": [
       "<Figure size 1152x432 with 1 Axes>"
      ]
     },
     "metadata": {
      "needs_background": "light"
     },
     "output_type": "display_data"
    }
   ],
   "source": [
    "# third signal\n",
    "x3 = np.exp(1j * 2 * np.pi * n / 10)\n",
    "X3 = dcDFT(x3)\n",
    "plt.stem(k, abs(X3))\n",
    "plt.show()"
   ]
  },
  {
   "cell_type": "markdown",
   "metadata": {},
   "source": [
    "**3. Determine the number of multiplies that are required in this approach to computing an $N$ point DFT. (Consider a multiply to be one multiplication of real or complex numbers.)**\n",
    "\n",
    "**Hint:** Refer to the diagram of Figure 1, and remember to consider the $N/2$ point DFTs."
   ]
  },
  {
   "cell_type": "markdown",
   "metadata": {},
   "source": [
    "insert your answer here"
   ]
  },
  {
   "cell_type": "markdown",
   "metadata": {},
   "source": [
    "<h3 style=\"color:salmon;\"><left>3.2 Recursive Divide and Conquer (Part 1)</left></h3>"
   ]
  },
  {
   "cell_type": "markdown",
   "metadata": {},
   "source": [
    "The second basic concept underlying the FFT algorithm is that of recursion. Suppose $N/2$ is also even. Then we may apply the same decimation-in-time idea to the computation of each of the $N/2$ point DFT’s in Figure 1. This yields the process depicted in Figure 2. We now have two stages of twiddle factors instead of one.\n",
    "\n",
    "<figure>\n",
    "    <img src=\"imgs/figure2.png\" style=\"width:80%\">\n",
    "    <em><center>Figure 2: Recursion of the decimation-in-time process. Now each $N/2$-point is calculated by combining two $N/4$-point DFT’s.</center></em>\n",
    "</figure>\n",
    "\n",
    "How many times can we repeat the process of decimating the input sequence? Suppose $N$ is a power of $2$, i.e. $N = 2^p$ for some integer $p$. We can then repeatedly decimate the sequence until each subsequence contains only two points. It is easily seen from (5) that the $2$ point DFT is a simple sum and difference of values.\n",
    "\n",
    "\\begin{align*}\n",
    "    X[0]&=x[0]+x[1]\\tag{13}\\\\\n",
    "    X[1]&=x[0]-x[1]\n",
    "\\end{align*}\n",
    "\n",
    "Figure 3 shows the flow diagram that results for an $8$ point DFT when we decimate $3$ times. Note that there are $3$ stages of twiddle factors (in the first stage, the twiddle factors simplify to “$1$”). This is the flow diagram for the complete decimation-in-time $8$ point FFT algorithm. How many multiplies are required to compute it?\n",
    "\n",
    "<figure>\n",
    "    <img src=\"imgs/figure3.png\" style=\"width:70%\">\n",
    "    <em><center>Figure 3: 8-Point FFT.</center></em>\n",
    "</figure>"
   ]
  },
  {
   "cell_type": "markdown",
   "metadata": {},
   "source": [
    "<h3 style=\"color:red;\"><left>Exercise 3.2: Recursive Divide and Conquer (Part 1)</left></h3>"
   ]
  },
  {
   "cell_type": "markdown",
   "metadata": {},
   "source": [
    "**1. Complete the Python functions below to compute the $2$, $4$, and $8$-point FFT’s.**\n",
    "\n",
    "**Note:** The function ```FFT2``` should directly compute the $2$-point DFT using (13), but the functions ```FFT4``` and ```FFT8``` should compute their respective FFT’s using the divide and conquer strategy. This means that ```FFT8``` should call ```FFT4```, and ```FFT4``` should call ```FFT2```."
   ]
  },
  {
   "cell_type": "code",
   "execution_count": 22,
   "metadata": {},
   "outputs": [],
   "source": [
    "def FFT2(x):\n",
    "    \"\"\"\n",
    "    Parameters:\n",
    "    ---\n",
    "    x: the input signal\n",
    "    \n",
    "    Returns:\n",
    "    ---\n",
    "    X: the 2-point DFT of x\n",
    "    \"\"\"\n",
    "    X = None\n",
    "    return X"
   ]
  },
  {
   "cell_type": "code",
   "execution_count": 23,
   "metadata": {},
   "outputs": [],
   "source": [
    "def FFT4(x):\n",
    "    \"\"\"\n",
    "    Parameters:\n",
    "    ---\n",
    "    x: the input signal\n",
    "    \n",
    "    Returns:\n",
    "    ---\n",
    "    X: the 4-point DFT of x\n",
    "    \"\"\"\n",
    "    X = None\n",
    "    return X"
   ]
  },
  {
   "cell_type": "code",
   "execution_count": 24,
   "metadata": {},
   "outputs": [],
   "source": [
    "def FFT8(x):\n",
    "    \"\"\"\n",
    "    Parameters:\n",
    "    ---\n",
    "    x: the input signal\n",
    "    \n",
    "    Returns:\n",
    "    ---\n",
    "    X: the 8-point DFT of x\n",
    "    \"\"\"\n",
    "    X = None\n",
    "    return X"
   ]
  },
  {
   "cell_type": "code",
   "execution_count": 25,
   "metadata": {},
   "outputs": [],
   "source": [
    "def FFT2(x):\n",
    "    X = np.zeros(2).astype(complex)\n",
    "    X[0] = x[0] + x[1]\n",
    "    X[1] = x[0] - x[1]\n",
    "    return X\n",
    "\n",
    "\n",
    "def FFT4(x):\n",
    "    N = 4\n",
    "    X = np.zeros(N).astype(complex)\n",
    "    k = np.arange(N / 2)\n",
    "    w = np.exp(-1j * 2 * np.pi * k / N)\n",
    "    X0 = FFT2(x[0::2])\n",
    "    X1 = FFT2(x[1::2])\n",
    "    X_0 = X0 + w * X1\n",
    "    X_1 = X0 - w * X1\n",
    "    X = np.concatenate((X_0, X_1), 0)\n",
    "    return X\n",
    "\n",
    "\n",
    "def FFT8(x):\n",
    "    N = 8\n",
    "    X = np.zeros(N).astype(complex)\n",
    "    k = np.arange(N / 2)\n",
    "    w = np.exp(-1j * 2 * np.pi * k / N)\n",
    "    X0 = FFT4(x[0::2])\n",
    "    X1 = FFT4(x[1::2])\n",
    "    X_0 = X0 + w * X1\n",
    "    X_1 = X0 - w * X1\n",
    "    X = np.concatenate((X_0, X_1), 0)\n",
    "    return X"
   ]
  },
  {
   "cell_type": "markdown",
   "metadata": {},
   "source": [
    "**2. Test your function ```FFT8``` by using it to compute the DFT’s of the following signals. Compare these results to the previous ones.**\n",
    "\n",
    "* $x[n]=\\delta[n]$ for $N=8$\n",
    "* $x[n]=1$ for $N=8$\n",
    "* $x[n]=e^{j2\\pi n/8}$ for $N=8$\n",
    "\n",
    "**Make sure you plot the results in separate cells.**"
   ]
  },
  {
   "cell_type": "code",
   "execution_count": 26,
   "metadata": {},
   "outputs": [],
   "source": [
    "# first signal\n"
   ]
  },
  {
   "cell_type": "code",
   "execution_count": 27,
   "metadata": {},
   "outputs": [],
   "source": [
    "# second signal\n"
   ]
  },
  {
   "cell_type": "code",
   "execution_count": 28,
   "metadata": {},
   "outputs": [],
   "source": [
    "# third signal\n"
   ]
  },
  {
   "cell_type": "code",
   "execution_count": 29,
   "metadata": {},
   "outputs": [
    {
     "data": {
      "image/png": "[encoded data removed]",
      "text/plain": [
       "<Figure size 1152x432 with 1 Axes>"
      ]
     },
     "metadata": {
      "needs_background": "light"
     },
     "output_type": "display_data"
    }
   ],
   "source": [
    "# first signal\n",
    "N = 8\n",
    "\n",
    "n = np.arange(0, N, 1)\n",
    "\n",
    "x1 = (n == 0).astype(int) \n",
    "\n",
    "X1 = FFT8(x1) \n",
    "\n",
    "plt.stem(n, abs(X1))\n",
    "plt.title('DFT of delta function')\n",
    "plt.xlabel('n values')\n",
    "plt.show()"
   ]
  },
  {
   "cell_type": "code",
   "execution_count": 30,
   "metadata": {},
   "outputs": [
    {
     "data": {
      "image/png": "[encoded data removed]",
      "text/plain": [
       "<Figure size 1152x432 with 1 Axes>"
      ]
     },
     "metadata": {
      "needs_background": "light"
     },
     "output_type": "display_data"
    }
   ],
   "source": [
    "# second signal\n",
    "x2 = (n == n).astype(int)\n",
    "\n",
    "X2 = FFT8(x2)\n",
    "\n",
    "plt.stem(n, abs(X2))\n",
    "plt.title('DFT of constant 1 function')\n",
    "plt.xlabel('n values')\n",
    "plt.show()"
   ]
  },
  {
   "cell_type": "code",
   "execution_count": 31,
   "metadata": {},
   "outputs": [
    {
     "data": {
      "image/png": "[encoded data removed]",
      "text/plain": [
       "<Figure size 1152x432 with 1 Axes>"
      ]
     },
     "metadata": {
      "needs_background": "light"
     },
     "output_type": "display_data"
    }
   ],
   "source": [
    "# third signal\n",
    "x3 = np.exp(1j*2*np.pi*n/8)\n",
    "\n",
    "X3 = FFT8(x3)\n",
    "\n",
    "plt.stem(n, abs(X3))\n",
    "plt.title('DFT of exponential function')\n",
    "plt.xlabel('n values')\n",
    "plt.show()"
   ]
  },
  {
   "cell_type": "markdown",
   "metadata": {},
   "source": [
    "**3. List the output (not plot) of ```FFT8``` for the case $x[n] = 1$ for $N = 8$.**"
   ]
  },
  {
   "cell_type": "code",
   "execution_count": 32,
   "metadata": {},
   "outputs": [],
   "source": [
    "# insert your code here\n"
   ]
  },
  {
   "cell_type": "code",
   "execution_count": 33,
   "metadata": {},
   "outputs": [
    {
     "name": "stdout",
     "output_type": "stream",
     "text": [
      "[8.+0.j 0.+0.j 0.+0.j 0.+0.j 0.+0.j 0.+0.j 0.+0.j 0.+0.j]\n"
     ]
    }
   ],
   "source": [
    "N = 8\n",
    "n = np.arange(N)\n",
    "k = np.arange(N)\n",
    "x2 = (n == n).astype(int)\n",
    "X2 = FFT8(x2)\n",
    "print(X2)"
   ]
  },
  {
   "cell_type": "markdown",
   "metadata": {},
   "source": [
    "**4. Calculate the total number of multiplies by twiddle factors required for your 8-point FFT. (A multiply is a multiplication by a real or complex number.)**"
   ]
  },
  {
   "cell_type": "markdown",
   "metadata": {},
   "source": [
    "insert your answer here"
   ]
  },
  {
   "cell_type": "markdown",
   "metadata": {},
   "source": [
    "**5. Determine a formula for the number of multiplies required for an $N = 2^p$ point FFT. Leave the expression in terms of $N$ and $p$. How does this compare to the number of multiplies required for direct implementation when $p = 10$?**"
   ]
  },
  {
   "cell_type": "markdown",
   "metadata": {},
   "source": [
    "insert your answer here"
   ]
  },
  {
   "cell_type": "markdown",
   "metadata": {},
   "source": [
    "<h3 style=\"color:red;\"><left>Exercise 3.3: Recursive Divide and Conquer (Part 2)</left></h3>"
   ]
  },
  {
   "cell_type": "markdown",
   "metadata": {},
   "source": [
    "If you wrote the ```FFT4``` and ```FFT8``` functions properly, they should have almost the exact same form. The only difference between them is the length of the input signal, and the function called to compute the ($N/2$)-pt DFTs. Obviously, it’s redundant to write a separate function for each specific length DFT when they each have the same form. The preferred method is to write a **recursive** function, which means that the function calls itself within the body. It is imperative that a recursive function has a condition for exiting without calling itself, otherwise it would never terminate."
   ]
  },
  {
   "cell_type": "markdown",
   "metadata": {},
   "source": [
    "**1. Complete the recursive function `fft_stage` below to perform one stage of the FFT algorithm for a power-of-2 length signal.**\n",
    "\n",
    "**Note:** the body of this function should look very similar to previous functions written in this lab."
   ]
  },
  {
   "cell_type": "code",
   "execution_count": 34,
   "metadata": {},
   "outputs": [],
   "source": [
    "def fft_stage(x):\n",
    "    \"\"\"\n",
    "    Performs one stage of the FFT algorithm for a power-of-2 length signal\n",
    "    \n",
    "    Parameters:\n",
    "    ---\n",
    "    x: a power-of-2 length signal\n",
    "    \n",
    "    Returns:\n",
    "    ---\n",
    "    X: the DFT of the inpu signal\n",
    "    \"\"\"\n",
    "    \n",
    "    # Step 1\n",
    "    # Determine the length of the input signal.\n",
    "    \n",
    "    # Step 2\n",
    "    # If N == 2, then the function should just compute the 2-pt DFT as in equation (13), and then return.\n",
    "    \n",
    "    # Step 3\n",
    "    # If N > 2, then the function should perform the FFT steps described previously \n",
    "    # (i.e. decimate, compute (N/2)-pt DFTs, re-combine), \n",
    "    # calling fft_stage(x) to compute the (N/2)-pt DFTs.\n",
    "    \n",
    "    X = None\n",
    "    return X"
   ]
  },
  {
   "cell_type": "code",
   "execution_count": 35,
   "metadata": {},
   "outputs": [],
   "source": [
    "def fft_stage(x):\n",
    "    N = len(x)\n",
    "    X = np.zeros(N).astype(complex)\n",
    "    if N == 2:\n",
    "        X[0] = x[0] + x[1]\n",
    "        X[1] = x[0] - x[1]\n",
    "        return X\n",
    "    else:\n",
    "        k = np.arange(N / 2)\n",
    "        w = np.exp(-1j * 2 * np.pi * k / N)\n",
    "        X0 = fft_stage(x[0::2])\n",
    "        X1 = fft_stage(x[1::2])\n",
    "        X_0 = X0 + w * X1\n",
    "        X_1 = X0 - w * X1\n",
    "        X = np.concatenate((X_0, X_1), 0)\n",
    "        return X"
   ]
  },
  {
   "cell_type": "markdown",
   "metadata": {},
   "source": [
    "**2. Test ```fft_stage(x)``` on the three 8-point signals given above, and verify that it returns the same results as ```FFT8(x)```.**\n",
    "\n",
    "**Make sure you plot the results in separate cells.**"
   ]
  },
  {
   "cell_type": "code",
   "execution_count": 36,
   "metadata": {},
   "outputs": [],
   "source": [
    "# first signal\n"
   ]
  },
  {
   "cell_type": "code",
   "execution_count": 37,
   "metadata": {},
   "outputs": [],
   "source": [
    "# second signal\n"
   ]
  },
  {
   "cell_type": "code",
   "execution_count": 38,
   "metadata": {},
   "outputs": [],
   "source": [
    "# third signal\n"
   ]
  },
  {
   "cell_type": "code",
   "execution_count": 39,
   "metadata": {},
   "outputs": [],
   "source": [
    "N = 8\n",
    "n = np.arange(N)\n",
    "k = np.arange(N)"
   ]
  },
  {
   "cell_type": "code",
   "execution_count": 40,
   "metadata": {},
   "outputs": [
    {
     "data": {
      "image/png": "[encoded data removed]",
      "text/plain": [
       "<Figure size 1152x432 with 1 Axes>"
      ]
     },
     "metadata": {
      "needs_background": "light"
     },
     "output_type": "display_data"
    }
   ],
   "source": [
    "x1 = (n == 0).astype(int)\n",
    "X1 = fft_stage(x1)\n",
    "plt.stem(k, abs(X1))\n",
    "plt.show()"
   ]
  },
  {
   "cell_type": "code",
   "execution_count": 41,
   "metadata": {},
   "outputs": [
    {
     "data": {
      "image/png": "[encoded data removed]",
      "text/plain": [
       "<Figure size 1152x432 with 1 Axes>"
      ]
     },
     "metadata": {
      "needs_background": "light"
     },
     "output_type": "display_data"
    }
   ],
   "source": [
    "x2 = (n == n).astype(int)\n",
    "X2 = fft_stage(x2)\n",
    "plt.stem(k, abs(X2))\n",
    "plt.show()"
   ]
  },
  {
   "cell_type": "code",
   "execution_count": 42,
   "metadata": {},
   "outputs": [
    {
     "data": {
      "image/png": "[encoded data removed]",
      "text/plain": [
       "<Figure size 1152x432 with 1 Axes>"
      ]
     },
     "metadata": {
      "needs_background": "light"
     },
     "output_type": "display_data"
    }
   ],
   "source": [
    "x3 = np.exp(1j * 2 * np.pi * n / 8)\n",
    "X3 = fft_stage(x3)\n",
    "plt.stem(k, abs(X3))\n",
    "plt.show()"
   ]
  },
  {
   "cell_type": "markdown",
   "metadata": {},
   "source": [
    "<h2 style=\"color:salmon;\"><left>4. References</left></h2>"
   ]
  },
  {
   "cell_type": "markdown",
   "metadata": {},
   "source": [
    "[1] J. W. Cooley and J. W. Tukey, “An algorithm for the machine calculation of complex\n",
    "Fourier series,” Mathematics of Computation, vol. 19, no. 90, p. 297-301, April 1965."
   ]
  }
 ],
 "metadata": {
  "kernelspec": {
   "display_name": "Python 3 (ipykernel)",
   "language": "python",
   "name": "python3"
  },
  "language_info": {
   "codemirror_mode": {
    "name": "ipython",
    "version": 3
   },
   "file_extension": ".py",
   "mimetype": "text/x-python",
   "name": "python",
   "nbconvert_exporter": "python",
   "pygments_lexer": "ipython3",
   "version": "3.8.1"
  }
 },
 "nbformat": 4,
 "nbformat_minor": 2
}
